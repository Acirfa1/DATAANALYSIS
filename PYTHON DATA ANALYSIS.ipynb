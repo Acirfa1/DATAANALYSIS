{
 "cells": [
  {
   "cell_type": "code",
   "execution_count": 32,
   "id": "6eb3e219",
   "metadata": {},
   "outputs": [],
   "source": [
    "import pandas as pd\n",
    "import numpy as np\n",
    "import matplotlib.pyplot as plt\n",
    "import regex as re\n",
    "from datetime import datetime"
   ]
  },
  {
   "cell_type": "code",
   "execution_count": 33,
   "id": "3b17d417",
   "metadata": {},
   "outputs": [
    {
     "data": {
      "text/html": [
       "<div>\n",
       "<style scoped>\n",
       "    .dataframe tbody tr th:only-of-type {\n",
       "        vertical-align: middle;\n",
       "    }\n",
       "\n",
       "    .dataframe tbody tr th {\n",
       "        vertical-align: top;\n",
       "    }\n",
       "\n",
       "    .dataframe thead th {\n",
       "        text-align: right;\n",
       "    }\n",
       "</style>\n",
       "<table border=\"1\" class=\"dataframe\">\n",
       "  <thead>\n",
       "    <tr style=\"text-align: right;\">\n",
       "      <th></th>\n",
       "      <th>invoice_no</th>\n",
       "      <th>customer_id</th>\n",
       "      <th>gender</th>\n",
       "      <th>age</th>\n",
       "      <th>category</th>\n",
       "      <th>quantity</th>\n",
       "      <th>price</th>\n",
       "      <th>payment_method</th>\n",
       "      <th>Invoice_Date</th>\n",
       "      <th>shopping_mall</th>\n",
       "    </tr>\n",
       "  </thead>\n",
       "  <tbody>\n",
       "    <tr>\n",
       "      <th>0</th>\n",
       "      <td>I138884</td>\n",
       "      <td>C241288</td>\n",
       "      <td>Female</td>\n",
       "      <td>28</td>\n",
       "      <td>Clothing</td>\n",
       "      <td>5</td>\n",
       "      <td>1500.40</td>\n",
       "      <td>Credit Card</td>\n",
       "      <td>8/5/2022</td>\n",
       "      <td>Kanyon</td>\n",
       "    </tr>\n",
       "    <tr>\n",
       "      <th>1</th>\n",
       "      <td>I317333</td>\n",
       "      <td>C111565</td>\n",
       "      <td>Male</td>\n",
       "      <td>21</td>\n",
       "      <td>Shoes</td>\n",
       "      <td>3</td>\n",
       "      <td>1800.51</td>\n",
       "      <td>Debit Card</td>\n",
       "      <td>12/12/2021</td>\n",
       "      <td>Forum Istanbul</td>\n",
       "    </tr>\n",
       "    <tr>\n",
       "      <th>2</th>\n",
       "      <td>I127801</td>\n",
       "      <td>C266599</td>\n",
       "      <td>Male</td>\n",
       "      <td>20</td>\n",
       "      <td>Clothing</td>\n",
       "      <td>1</td>\n",
       "      <td>300.08</td>\n",
       "      <td>Cash</td>\n",
       "      <td>11/9/2021</td>\n",
       "      <td>Metrocity</td>\n",
       "    </tr>\n",
       "    <tr>\n",
       "      <th>3</th>\n",
       "      <td>I173702</td>\n",
       "      <td>C988172</td>\n",
       "      <td>Female</td>\n",
       "      <td>66</td>\n",
       "      <td>Shoes</td>\n",
       "      <td>5</td>\n",
       "      <td>3000.85</td>\n",
       "      <td>Credit Card</td>\n",
       "      <td>5/16/2021</td>\n",
       "      <td>Metropol AVM</td>\n",
       "    </tr>\n",
       "    <tr>\n",
       "      <th>4</th>\n",
       "      <td>I337046</td>\n",
       "      <td>C189076</td>\n",
       "      <td>Female</td>\n",
       "      <td>53</td>\n",
       "      <td>Books</td>\n",
       "      <td>4</td>\n",
       "      <td>60.60</td>\n",
       "      <td>Cash</td>\n",
       "      <td>10/24/2021</td>\n",
       "      <td>Kanyon</td>\n",
       "    </tr>\n",
       "    <tr>\n",
       "      <th>...</th>\n",
       "      <td>...</td>\n",
       "      <td>...</td>\n",
       "      <td>...</td>\n",
       "      <td>...</td>\n",
       "      <td>...</td>\n",
       "      <td>...</td>\n",
       "      <td>...</td>\n",
       "      <td>...</td>\n",
       "      <td>...</td>\n",
       "      <td>...</td>\n",
       "    </tr>\n",
       "    <tr>\n",
       "      <th>99452</th>\n",
       "      <td>I219422</td>\n",
       "      <td>C441542</td>\n",
       "      <td>Female</td>\n",
       "      <td>45</td>\n",
       "      <td>Souvenir</td>\n",
       "      <td>5</td>\n",
       "      <td>58.65</td>\n",
       "      <td>Credit Card</td>\n",
       "      <td>9/21/2022</td>\n",
       "      <td>Kanyon</td>\n",
       "    </tr>\n",
       "    <tr>\n",
       "      <th>99453</th>\n",
       "      <td>I325143</td>\n",
       "      <td>C569580</td>\n",
       "      <td>Male</td>\n",
       "      <td>27</td>\n",
       "      <td>Food &amp; Beverage</td>\n",
       "      <td>2</td>\n",
       "      <td>10.46</td>\n",
       "      <td>Cash</td>\n",
       "      <td>9/22/2021</td>\n",
       "      <td>Forum Istanbul</td>\n",
       "    </tr>\n",
       "    <tr>\n",
       "      <th>99454</th>\n",
       "      <td>I824010</td>\n",
       "      <td>C103292</td>\n",
       "      <td>Male</td>\n",
       "      <td>63</td>\n",
       "      <td>Food &amp; Beverage</td>\n",
       "      <td>2</td>\n",
       "      <td>10.46</td>\n",
       "      <td>Debit Card</td>\n",
       "      <td>3/28/2021</td>\n",
       "      <td>Metrocity</td>\n",
       "    </tr>\n",
       "    <tr>\n",
       "      <th>99455</th>\n",
       "      <td>I702964</td>\n",
       "      <td>C800631</td>\n",
       "      <td>Male</td>\n",
       "      <td>56</td>\n",
       "      <td>Technology</td>\n",
       "      <td>4</td>\n",
       "      <td>4200.00</td>\n",
       "      <td>Cash</td>\n",
       "      <td>3/16/2021</td>\n",
       "      <td>Istinye Park</td>\n",
       "    </tr>\n",
       "    <tr>\n",
       "      <th>99456</th>\n",
       "      <td>I232867</td>\n",
       "      <td>C273973</td>\n",
       "      <td>Female</td>\n",
       "      <td>36</td>\n",
       "      <td>Souvenir</td>\n",
       "      <td>3</td>\n",
       "      <td>35.19</td>\n",
       "      <td>Credit Card</td>\n",
       "      <td>10/15/2022</td>\n",
       "      <td>Mall of Istanbul</td>\n",
       "    </tr>\n",
       "  </tbody>\n",
       "</table>\n",
       "<p>99457 rows × 10 columns</p>\n",
       "</div>"
      ],
      "text/plain": [
       "      invoice_no customer_id  gender  age         category  quantity    price  \\\n",
       "0        I138884     C241288  Female   28         Clothing         5  1500.40   \n",
       "1        I317333     C111565    Male   21            Shoes         3  1800.51   \n",
       "2        I127801     C266599    Male   20         Clothing         1   300.08   \n",
       "3        I173702     C988172  Female   66            Shoes         5  3000.85   \n",
       "4        I337046     C189076  Female   53            Books         4    60.60   \n",
       "...          ...         ...     ...  ...              ...       ...      ...   \n",
       "99452    I219422     C441542  Female   45         Souvenir         5    58.65   \n",
       "99453    I325143     C569580    Male   27  Food & Beverage         2    10.46   \n",
       "99454    I824010     C103292    Male   63  Food & Beverage         2    10.46   \n",
       "99455    I702964     C800631    Male   56       Technology         4  4200.00   \n",
       "99456    I232867     C273973  Female   36         Souvenir         3    35.19   \n",
       "\n",
       "      payment_method Invoice_Date     shopping_mall  \n",
       "0        Credit Card     8/5/2022            Kanyon  \n",
       "1         Debit Card   12/12/2021    Forum Istanbul  \n",
       "2               Cash    11/9/2021         Metrocity  \n",
       "3        Credit Card    5/16/2021      Metropol AVM  \n",
       "4               Cash   10/24/2021            Kanyon  \n",
       "...              ...          ...               ...  \n",
       "99452    Credit Card    9/21/2022            Kanyon  \n",
       "99453           Cash    9/22/2021    Forum Istanbul  \n",
       "99454     Debit Card    3/28/2021         Metrocity  \n",
       "99455           Cash    3/16/2021      Istinye Park  \n",
       "99456    Credit Card   10/15/2022  Mall of Istanbul  \n",
       "\n",
       "[99457 rows x 10 columns]"
      ]
     },
     "execution_count": 33,
     "metadata": {},
     "output_type": "execute_result"
    }
   ],
   "source": [
    "\n",
    "cus_sale = pd.read_csv(\"customer-shopping-data.csv\")\n",
    "\n",
    "cus_sale"
   ]
  },
  {
   "cell_type": "markdown",
   "id": "a1895ddf",
   "metadata": {},
   "source": [
    "# QUESTION ONE\n",
    " BASIC INFO\n",
    " \n",
    "1a. The total number of invoices in the dataset  #99457 INVOICES IN THE DATASET\n",
    "1b. Number of unique customers\n",
    "1c. Average age of customers"
   ]
  },
  {
   "cell_type": "code",
   "execution_count": 3,
   "id": "86e5bfbe",
   "metadata": {},
   "outputs": [
    {
     "name": "stdout",
     "output_type": "stream",
     "text": [
      "The length of unique customers are 99457\n",
      "The unique numbers for each columns are invoice_no        99457\n",
      "customer_id       99457\n",
      "gender                2\n",
      "age                  52\n",
      "category              8\n",
      "quantity              5\n",
      "price                40\n",
      "payment_method        3\n",
      "Invoice_Date        797\n",
      "shopping_mall        10\n",
      "dtype: int64\n",
      " The unique number of customers is 99457 using their various customer Id, cause this helpsus to check for duplicates\n"
     ]
    }
   ],
   "source": [
    "# 1B \n",
    "# TO CHECK THE LENGTH OF UNIQUE VALUES OF CUSTOMERS BY USING THEIR CUSTOMER IDS\n",
    "n = len(pd.unique(cus_sale[\"customer_id\"]))\n",
    "print(\"The length of unique customers are\", n)\n",
    "\n",
    "a= cus_sale.nunique(axis=0)\n",
    "print(\"The unique numbers for each columns are\", a)\n",
    "\n",
    "b= cus_sale.customer_id.nunique()\n",
    "print(f\" The unique number of customers is {b} using their various customer Id, cause this helps\\\n",
    "us to check for duplicates\")"
   ]
  },
  {
   "cell_type": "code",
   "execution_count": 4,
   "id": "f39ca610",
   "metadata": {},
   "outputs": [
    {
     "name": "stdout",
     "output_type": "stream",
     "text": [
      " The average of customers age is 43.42708909377922\n"
     ]
    }
   ],
   "source": [
    "# 1c.\n",
    "avg = cus_sale[\"age\"].mean()\n",
    "\n",
    "print(f\" The average of customers age is {avg}\")"
   ]
  },
  {
   "cell_type": "markdown",
   "id": "888e4732",
   "metadata": {},
   "source": [
    "# QUESTION 2\n",
    "\n",
    "2a. What are the unique categories of items in the data set?\n",
    "2b. Which quantity has the highest quantity sold?\n",
    "2c. Can you find the average price for each category"
   ]
  },
  {
   "cell_type": "code",
   "execution_count": 26,
   "id": "b68ebd85",
   "metadata": {},
   "outputs": [
    {
     "name": "stdout",
     "output_type": "stream",
     "text": [
      "The 8 unique categories are listed below as:\n"
     ]
    },
    {
     "data": {
      "text/html": [
       "<div>\n",
       "<style scoped>\n",
       "    .dataframe tbody tr th:only-of-type {\n",
       "        vertical-align: middle;\n",
       "    }\n",
       "\n",
       "    .dataframe tbody tr th {\n",
       "        vertical-align: top;\n",
       "    }\n",
       "\n",
       "    .dataframe thead th {\n",
       "        text-align: right;\n",
       "    }\n",
       "</style>\n",
       "<table border=\"1\" class=\"dataframe\">\n",
       "  <thead>\n",
       "    <tr style=\"text-align: right;\">\n",
       "      <th></th>\n",
       "      <th>0</th>\n",
       "    </tr>\n",
       "  </thead>\n",
       "  <tbody>\n",
       "    <tr>\n",
       "      <th>0</th>\n",
       "      <td>Clothing</td>\n",
       "    </tr>\n",
       "    <tr>\n",
       "      <th>1</th>\n",
       "      <td>Shoes</td>\n",
       "    </tr>\n",
       "    <tr>\n",
       "      <th>2</th>\n",
       "      <td>Books</td>\n",
       "    </tr>\n",
       "    <tr>\n",
       "      <th>3</th>\n",
       "      <td>Cosmetics</td>\n",
       "    </tr>\n",
       "    <tr>\n",
       "      <th>4</th>\n",
       "      <td>Food &amp; Beverage</td>\n",
       "    </tr>\n",
       "    <tr>\n",
       "      <th>5</th>\n",
       "      <td>Toys</td>\n",
       "    </tr>\n",
       "    <tr>\n",
       "      <th>6</th>\n",
       "      <td>Technology</td>\n",
       "    </tr>\n",
       "    <tr>\n",
       "      <th>7</th>\n",
       "      <td>Souvenir</td>\n",
       "    </tr>\n",
       "  </tbody>\n",
       "</table>\n",
       "</div>"
      ],
      "text/plain": [
       "                 0\n",
       "0         Clothing\n",
       "1            Shoes\n",
       "2            Books\n",
       "3        Cosmetics\n",
       "4  Food & Beverage\n",
       "5             Toys\n",
       "6       Technology\n",
       "7         Souvenir"
      ]
     },
     "execution_count": 26,
     "metadata": {},
     "output_type": "execute_result"
    }
   ],
   "source": [
    "#2a.\n",
    "a = pd.DataFrame(cus_sale.category.unique())\n",
    "\n",
    "print(\"The 8 unique categories are listed below as:\")\n",
    "a"
   ]
  },
  {
   "cell_type": "code",
   "execution_count": 86,
   "id": "a2f57050",
   "metadata": {},
   "outputs": [
    {
     "name": "stdout",
     "output_type": "stream",
     "text": [
      "       quantity         category\n",
      "0             5         Clothing\n",
      "1             3            Shoes\n",
      "2             1         Clothing\n",
      "3             5            Shoes\n",
      "4             4            Books\n",
      "...         ...              ...\n",
      "99452         5         Souvenir\n",
      "99453         2  Food & Beverage\n",
      "99454         2  Food & Beverage\n",
      "99455         4       Technology\n",
      "99456         3         Souvenir\n",
      "\n",
      "[99457 rows x 2 columns]\n",
      " WE CAN DEDUCE FROM THIS DATA BELOW THAT THE HIGHEST QUANTITY BOUGHT IS CLOTHS\n"
     ]
    },
    {
     "data": {
      "text/html": [
       "<div>\n",
       "<style scoped>\n",
       "    .dataframe tbody tr th:only-of-type {\n",
       "        vertical-align: middle;\n",
       "    }\n",
       "\n",
       "    .dataframe tbody tr th {\n",
       "        vertical-align: top;\n",
       "    }\n",
       "\n",
       "    .dataframe thead th {\n",
       "        text-align: right;\n",
       "    }\n",
       "</style>\n",
       "<table border=\"1\" class=\"dataframe\">\n",
       "  <thead>\n",
       "    <tr style=\"text-align: right;\">\n",
       "      <th></th>\n",
       "      <th>quantity</th>\n",
       "    </tr>\n",
       "    <tr>\n",
       "      <th>category</th>\n",
       "      <th></th>\n",
       "    </tr>\n",
       "  </thead>\n",
       "  <tbody>\n",
       "    <tr>\n",
       "      <th>Books</th>\n",
       "      <td>14982</td>\n",
       "    </tr>\n",
       "    <tr>\n",
       "      <th>Clothing</th>\n",
       "      <td>103558</td>\n",
       "    </tr>\n",
       "    <tr>\n",
       "      <th>Cosmetics</th>\n",
       "      <td>45465</td>\n",
       "    </tr>\n",
       "    <tr>\n",
       "      <th>Food &amp; Beverage</th>\n",
       "      <td>44277</td>\n",
       "    </tr>\n",
       "    <tr>\n",
       "      <th>Shoes</th>\n",
       "      <td>30217</td>\n",
       "    </tr>\n",
       "    <tr>\n",
       "      <th>Souvenir</th>\n",
       "      <td>14871</td>\n",
       "    </tr>\n",
       "    <tr>\n",
       "      <th>Technology</th>\n",
       "      <td>15021</td>\n",
       "    </tr>\n",
       "    <tr>\n",
       "      <th>Toys</th>\n",
       "      <td>30321</td>\n",
       "    </tr>\n",
       "  </tbody>\n",
       "</table>\n",
       "</div>"
      ],
      "text/plain": [
       "                 quantity\n",
       "category                 \n",
       "Books               14982\n",
       "Clothing           103558\n",
       "Cosmetics           45465\n",
       "Food & Beverage     44277\n",
       "Shoes               30217\n",
       "Souvenir            14871\n",
       "Technology          15021\n",
       "Toys                30321"
      ]
     },
     "execution_count": 86,
     "metadata": {},
     "output_type": "execute_result"
    }
   ],
   "source": [
    "b =cus_sale[[\"quantity\", \"category\"]].copy()\n",
    "\n",
    "print(b)\n",
    "print(\" WE CAN DEDUCE FROM THIS DATA BELOW THAT THE HIGHEST QUANTITY BOUGHT IS CLOTHS\")\n",
    "\n",
    "# This is the total sum of each categories quantity\n",
    "c = b.groupby([\"category\"]).sum(\"quantity\")\n",
    "c\n"
   ]
  },
  {
   "cell_type": "markdown",
   "id": "c105b06c",
   "metadata": {},
   "source": [
    "#  PERSONAL DIVERSION"
   ]
  },
  {
   "cell_type": "code",
   "execution_count": 87,
   "id": "8006b78f",
   "metadata": {},
   "outputs": [
    {
     "name": "stdout",
     "output_type": "stream",
     "text": [
      "         price         category\n",
      "0      1500.40         Clothing\n",
      "1      1800.51            Shoes\n",
      "2       300.08         Clothing\n",
      "3      3000.85            Shoes\n",
      "4        60.60            Books\n",
      "...        ...              ...\n",
      "99452    58.65         Souvenir\n",
      "99453    10.46  Food & Beverage\n",
      "99454    10.46  Food & Beverage\n",
      "99455  4200.00       Technology\n",
      "99456    35.19         Souvenir\n",
      "\n",
      "[99457 rows x 2 columns]\n",
      "                   price\n",
      "category                \n",
      "Books              75.75\n",
      "Clothing         1500.40\n",
      "Cosmetics         203.30\n",
      "Food & Beverage    26.15\n",
      "Shoes            3000.85\n",
      "Souvenir           58.65\n",
      "Technology       5250.00\n",
      "Toys              179.20\n",
      "                       price\n",
      "category                    \n",
      "Books              226977.30\n",
      "Clothing         31075684.64\n",
      "Cosmetics         1848606.90\n",
      "Food & Beverage    231568.71\n",
      "Shoes            18135336.89\n",
      "Souvenir           174436.83\n",
      "Technology       15772050.00\n",
      "Toys              1086704.64\n"
     ]
    },
    {
     "data": {
      "text/html": [
       "<div>\n",
       "<style scoped>\n",
       "    .dataframe tbody tr th:only-of-type {\n",
       "        vertical-align: middle;\n",
       "    }\n",
       "\n",
       "    .dataframe tbody tr th {\n",
       "        vertical-align: top;\n",
       "    }\n",
       "\n",
       "    .dataframe thead th {\n",
       "        text-align: right;\n",
       "    }\n",
       "</style>\n",
       "<table border=\"1\" class=\"dataframe\">\n",
       "  <thead>\n",
       "    <tr style=\"text-align: right;\">\n",
       "      <th></th>\n",
       "      <th>price</th>\n",
       "    </tr>\n",
       "    <tr>\n",
       "      <th>category</th>\n",
       "      <th></th>\n",
       "    </tr>\n",
       "  </thead>\n",
       "  <tbody>\n",
       "    <tr>\n",
       "      <th>Clothing</th>\n",
       "      <td>31075684.64</td>\n",
       "    </tr>\n",
       "    <tr>\n",
       "      <th>Shoes</th>\n",
       "      <td>18135336.89</td>\n",
       "    </tr>\n",
       "    <tr>\n",
       "      <th>Technology</th>\n",
       "      <td>15772050.00</td>\n",
       "    </tr>\n",
       "    <tr>\n",
       "      <th>Cosmetics</th>\n",
       "      <td>1848606.90</td>\n",
       "    </tr>\n",
       "    <tr>\n",
       "      <th>Toys</th>\n",
       "      <td>1086704.64</td>\n",
       "    </tr>\n",
       "    <tr>\n",
       "      <th>Food &amp; Beverage</th>\n",
       "      <td>231568.71</td>\n",
       "    </tr>\n",
       "    <tr>\n",
       "      <th>Books</th>\n",
       "      <td>226977.30</td>\n",
       "    </tr>\n",
       "    <tr>\n",
       "      <th>Souvenir</th>\n",
       "      <td>174436.83</td>\n",
       "    </tr>\n",
       "  </tbody>\n",
       "</table>\n",
       "</div>"
      ],
      "text/plain": [
       "                       price\n",
       "category                    \n",
       "Clothing         31075684.64\n",
       "Shoes            18135336.89\n",
       "Technology       15772050.00\n",
       "Cosmetics         1848606.90\n",
       "Toys              1086704.64\n",
       "Food & Beverage    231568.71\n",
       "Books              226977.30\n",
       "Souvenir           174436.83"
      ]
     },
     "execution_count": 87,
     "metadata": {},
     "output_type": "execute_result"
    }
   ],
   "source": [
    "# This is me creating a series using the only two columns i need for this question\n",
    "b =cus_sale[[\"price\", \"category\"]].copy()\n",
    "\n",
    "print(b)\n",
    "\n",
    "# This is the highest that each of the items were ever sold at\n",
    "a = b.groupby([\"category\"]).max(\"price\")\n",
    "\n",
    "print(a)\n",
    "\n",
    "# This is the total sum that each of the 8 uniques money spent by customers\n",
    "c = b.groupby([\"category\"]).sum(\"price\")\n",
    "\n",
    "print(c)\n",
    "\n",
    "# Thus prints the values of those two data sets in descending order according to the price\n",
    "d= c.sort_values(\"price\", ascending=False)\n",
    "d\n"
   ]
  },
  {
   "cell_type": "code",
   "execution_count": 90,
   "id": "7c388edd",
   "metadata": {},
   "outputs": [
    {
     "name": "stdout",
     "output_type": "stream",
     "text": [
      "This below is the average price for each of the categories\n"
     ]
    },
    {
     "data": {
      "text/html": [
       "<div>\n",
       "<style scoped>\n",
       "    .dataframe tbody tr th:only-of-type {\n",
       "        vertical-align: middle;\n",
       "    }\n",
       "\n",
       "    .dataframe tbody tr th {\n",
       "        vertical-align: top;\n",
       "    }\n",
       "\n",
       "    .dataframe thead th {\n",
       "        text-align: right;\n",
       "    }\n",
       "</style>\n",
       "<table border=\"1\" class=\"dataframe\">\n",
       "  <thead>\n",
       "    <tr style=\"text-align: right;\">\n",
       "      <th></th>\n",
       "      <th>price</th>\n",
       "    </tr>\n",
       "    <tr>\n",
       "      <th>category</th>\n",
       "      <th></th>\n",
       "    </tr>\n",
       "  </thead>\n",
       "  <tbody>\n",
       "    <tr>\n",
       "      <th>Books</th>\n",
       "      <td>45.568621</td>\n",
       "    </tr>\n",
       "    <tr>\n",
       "      <th>Clothing</th>\n",
       "      <td>901.084021</td>\n",
       "    </tr>\n",
       "    <tr>\n",
       "      <th>Cosmetics</th>\n",
       "      <td>122.448626</td>\n",
       "    </tr>\n",
       "    <tr>\n",
       "      <th>Food &amp; Beverage</th>\n",
       "      <td>15.671948</td>\n",
       "    </tr>\n",
       "    <tr>\n",
       "      <th>Shoes</th>\n",
       "      <td>1807.388568</td>\n",
       "    </tr>\n",
       "    <tr>\n",
       "      <th>Souvenir</th>\n",
       "      <td>34.894345</td>\n",
       "    </tr>\n",
       "    <tr>\n",
       "      <th>Technology</th>\n",
       "      <td>3156.935548</td>\n",
       "    </tr>\n",
       "    <tr>\n",
       "      <th>Toys</th>\n",
       "      <td>107.733185</td>\n",
       "    </tr>\n",
       "  </tbody>\n",
       "</table>\n",
       "</div>"
      ],
      "text/plain": [
       "                       price\n",
       "category                    \n",
       "Books              45.568621\n",
       "Clothing          901.084021\n",
       "Cosmetics         122.448626\n",
       "Food & Beverage    15.671948\n",
       "Shoes            1807.388568\n",
       "Souvenir           34.894345\n",
       "Technology       3156.935548\n",
       "Toys              107.733185"
      ]
     },
     "execution_count": 90,
     "metadata": {},
     "output_type": "execute_result"
    }
   ],
   "source": [
    "#2c.\n",
    "print(\"This below is the average price for each of the categories\")\n",
    "a = b.groupby([\"category\"]).mean(\"price\")\n",
    "a"
   ]
  },
  {
   "cell_type": "markdown",
   "id": "ebea3729",
   "metadata": {},
   "source": [
    "# QUESTION 3\n",
    "PAYMENT DISTRIBUTION METHOD\n",
    "\n",
    "3a)What are the different payment methods used    3b) Create a pie chart to represent the distribution of payment methods."
   ]
  },
  {
   "cell_type": "code",
   "execution_count": 9,
   "id": "ac8cab3f",
   "metadata": {},
   "outputs": [
    {
     "name": "stdout",
     "output_type": "stream",
     "text": [
      "The 3 different payment methods used are listed below as:             0\n",
      "0  Credit Card\n",
      "1   Debit Card\n",
      "2         Cash\n"
     ]
    }
   ],
   "source": [
    "#3a\n",
    "a = pd.DataFrame(cus_sale.payment_method.unique())\n",
    "\n",
    "print(f\"The 3 different payment methods used are listed below as:{a}\")"
   ]
  },
  {
   "cell_type": "code",
   "execution_count": 31,
   "id": "4254155f",
   "metadata": {},
   "outputs": [
    {
     "name": "stdout",
     "output_type": "stream",
     "text": [
      "Cash           44447\n",
      "Credit Card    34931\n",
      "Debit Card     20079\n",
      "Name: payment_method, dtype: int64\n",
      "Cash           0.446897\n",
      "Credit Card    0.351217\n",
      "Debit Card     0.201886\n",
      "Name: payment_method, dtype: float64\n"
     ]
    },
    {
     "data": {
      "image/png": "[encoded data removed]",
      "text/plain": [
       "<Figure size 640x480 with 1 Axes>"
      ]
     },
     "metadata": {},
     "output_type": "display_data"
    }
   ],
   "source": [
    "# 3b \n",
    "# To first get the distribution pattern of the payment methods \n",
    "\n",
    "## a = cus_sale[\"payment_method\"].value_counts(normalize=True)# Prints out the percentage\n",
    "\n",
    "a = cus_sale[\"payment_method\"].value_counts(normalize=False)# Prints out the percentage\n",
    "print(a)\n",
    "\n",
    "percent = a.astype(float)/a.sum()\n",
    "print(percent)\n",
    "\n",
    "b= percent.plot(kind=\"pie\",title=\"Payment Methods\", labels=cus_sale[\"payment_method\"])\n",
    "\n",
    "#plt.show(percent)"
   ]
  },
  {
   "cell_type": "markdown",
   "id": "439ee3a4",
   "metadata": {},
   "source": [
    "# QUESTION 4\n",
    "SHOPPING INSIGHTS\n",
    "\n",
    "4a) Which shoppping mall has the most transactions  4b)What is the average quantity of items purchased in each shopping mall?"
   ]
  },
  {
   "cell_type": "code",
   "execution_count": 7,
   "id": "0960f624",
   "metadata": {},
   "outputs": [
    {
     "name": "stdout",
     "output_type": "stream",
     "text": [
      "From the data below we can deduce that MALL OF ISTANBUL has the highest transactions\n"
     ]
    },
    {
     "data": {
      "text/html": [
       "<div>\n",
       "<style scoped>\n",
       "    .dataframe tbody tr th:only-of-type {\n",
       "        vertical-align: middle;\n",
       "    }\n",
       "\n",
       "    .dataframe tbody tr th {\n",
       "        vertical-align: top;\n",
       "    }\n",
       "\n",
       "    .dataframe thead th {\n",
       "        text-align: right;\n",
       "    }\n",
       "</style>\n",
       "<table border=\"1\" class=\"dataframe\">\n",
       "  <thead>\n",
       "    <tr style=\"text-align: right;\">\n",
       "      <th></th>\n",
       "      <th>shopping_mall</th>\n",
       "    </tr>\n",
       "  </thead>\n",
       "  <tbody>\n",
       "    <tr>\n",
       "      <th>Mall of Istanbul</th>\n",
       "      <td>19943</td>\n",
       "    </tr>\n",
       "    <tr>\n",
       "      <th>Kanyon</th>\n",
       "      <td>19823</td>\n",
       "    </tr>\n",
       "    <tr>\n",
       "      <th>Metrocity</th>\n",
       "      <td>15011</td>\n",
       "    </tr>\n",
       "    <tr>\n",
       "      <th>Metropol AVM</th>\n",
       "      <td>10161</td>\n",
       "    </tr>\n",
       "    <tr>\n",
       "      <th>Istinye Park</th>\n",
       "      <td>9781</td>\n",
       "    </tr>\n",
       "    <tr>\n",
       "      <th>Zorlu Center</th>\n",
       "      <td>5075</td>\n",
       "    </tr>\n",
       "    <tr>\n",
       "      <th>Cevahir AVM</th>\n",
       "      <td>4991</td>\n",
       "    </tr>\n",
       "    <tr>\n",
       "      <th>Forum Istanbul</th>\n",
       "      <td>4947</td>\n",
       "    </tr>\n",
       "    <tr>\n",
       "      <th>Viaport Outlet</th>\n",
       "      <td>4914</td>\n",
       "    </tr>\n",
       "    <tr>\n",
       "      <th>Emaar Square Mall</th>\n",
       "      <td>4811</td>\n",
       "    </tr>\n",
       "  </tbody>\n",
       "</table>\n",
       "</div>"
      ],
      "text/plain": [
       "                   shopping_mall\n",
       "Mall of Istanbul           19943\n",
       "Kanyon                     19823\n",
       "Metrocity                  15011\n",
       "Metropol AVM               10161\n",
       "Istinye Park                9781\n",
       "Zorlu Center                5075\n",
       "Cevahir AVM                 4991\n",
       "Forum Istanbul              4947\n",
       "Viaport Outlet              4914\n",
       "Emaar Square Mall           4811"
      ]
     },
     "execution_count": 7,
     "metadata": {},
     "output_type": "execute_result"
    }
   ],
   "source": [
    "# 4a)\n",
    "# This shows howmany times each of those supermarkets were visited, which can be used to show \n",
    "# their transaction rate\n",
    "print(\"From the data below we can deduce that MALL OF ISTANBUL has the highest transactions\")\n",
    "\n",
    "a = pd.DataFrame(cus_sale[\"shopping_mall\"].value_counts())\n",
    "a\n"
   ]
  },
  {
   "cell_type": "code",
   "execution_count": 9,
   "id": "b034fcd7",
   "metadata": {},
   "outputs": [
    {
     "name": "stdout",
     "output_type": "stream",
     "text": [
      "This are the 10 different shooping malls available: ['Kanyon' 'Forum Istanbul' 'Metrocity' 'Metropol AVM' 'Istinye Park'\n",
      " 'Mall of Istanbul' 'Emaar Square Mall' 'Cevahir AVM' 'Viaport Outlet'\n",
      " 'Zorlu Center']\n",
      "          shopping_mall  quantity\n",
      "0                Kanyon         5\n",
      "1        Forum Istanbul         3\n",
      "2             Metrocity         1\n",
      "3          Metropol AVM         5\n",
      "4                Kanyon         4\n",
      "...                 ...       ...\n",
      "99452            Kanyon         5\n",
      "99453    Forum Istanbul         2\n",
      "99454         Metrocity         2\n",
      "99455      Istinye Park         4\n",
      "99456  Mall of Istanbul         3\n",
      "\n",
      "[99457 rows x 2 columns]\n"
     ]
    },
    {
     "data": {
      "text/html": [
       "<div>\n",
       "<style scoped>\n",
       "    .dataframe tbody tr th:only-of-type {\n",
       "        vertical-align: middle;\n",
       "    }\n",
       "\n",
       "    .dataframe tbody tr th {\n",
       "        vertical-align: top;\n",
       "    }\n",
       "\n",
       "    .dataframe thead th {\n",
       "        text-align: right;\n",
       "    }\n",
       "</style>\n",
       "<table border=\"1\" class=\"dataframe\">\n",
       "  <thead>\n",
       "    <tr style=\"text-align: right;\">\n",
       "      <th></th>\n",
       "      <th>quantity</th>\n",
       "    </tr>\n",
       "    <tr>\n",
       "      <th>shopping_mall</th>\n",
       "      <th></th>\n",
       "    </tr>\n",
       "  </thead>\n",
       "  <tbody>\n",
       "    <tr>\n",
       "      <th>Cevahir AVM</th>\n",
       "      <td>2.995191</td>\n",
       "    </tr>\n",
       "    <tr>\n",
       "      <th>Emaar Square Mall</th>\n",
       "      <td>3.014134</td>\n",
       "    </tr>\n",
       "    <tr>\n",
       "      <th>Forum Istanbul</th>\n",
       "      <td>3.002224</td>\n",
       "    </tr>\n",
       "    <tr>\n",
       "      <th>Istinye Park</th>\n",
       "      <td>3.012473</td>\n",
       "    </tr>\n",
       "    <tr>\n",
       "      <th>Kanyon</th>\n",
       "      <td>2.999395</td>\n",
       "    </tr>\n",
       "    <tr>\n",
       "      <th>Mall of Istanbul</th>\n",
       "      <td>3.014291</td>\n",
       "    </tr>\n",
       "    <tr>\n",
       "      <th>Metrocity</th>\n",
       "      <td>2.990740</td>\n",
       "    </tr>\n",
       "    <tr>\n",
       "      <th>Metropol AVM</th>\n",
       "      <td>3.004626</td>\n",
       "    </tr>\n",
       "    <tr>\n",
       "      <th>Viaport Outlet</th>\n",
       "      <td>2.994709</td>\n",
       "    </tr>\n",
       "    <tr>\n",
       "      <th>Zorlu Center</th>\n",
       "      <td>3.001773</td>\n",
       "    </tr>\n",
       "  </tbody>\n",
       "</table>\n",
       "</div>"
      ],
      "text/plain": [
       "                   quantity\n",
       "shopping_mall              \n",
       "Cevahir AVM        2.995191\n",
       "Emaar Square Mall  3.014134\n",
       "Forum Istanbul     3.002224\n",
       "Istinye Park       3.012473\n",
       "Kanyon             2.999395\n",
       "Mall of Istanbul   3.014291\n",
       "Metrocity          2.990740\n",
       "Metropol AVM       3.004626\n",
       "Viaport Outlet     2.994709\n",
       "Zorlu Center       3.001773"
      ]
     },
     "execution_count": 9,
     "metadata": {},
     "output_type": "execute_result"
    }
   ],
   "source": [
    "# First printing out the supermarkets the supermarkets we have\n",
    "a = cus_sale.shopping_mall.unique()\n",
    "print(f\"This are the 10 different shooping malls available: {a}\")\n",
    "\n",
    "#Now printing out only the shooping mall and quantity columns\n",
    "b =cus_sale[[\"shopping_mall\", \"quantity\"]].copy()\n",
    "print(b)\n",
    "\n",
    "\n",
    "# This is the sum total highest of each of the items \n",
    "c = b.groupby([\"shopping_mall\"]).mean(\"quantity\")\n",
    "c\n",
    "\n",
    "#d= cus_sale[\"shopping_mall\"].groupby[\"quantity\"].mean()\n",
    "#d\n",
    "\n"
   ]
  },
  {
   "cell_type": "markdown",
   "id": "25974096",
   "metadata": {},
   "source": [
    "# QUESTION 5\n",
    "                              TEMPORAL ANALYSIS\n",
    "\n",
    "5a) How many invoices are there for each month   5b) Create a line chart to visualize the trend in sales over time"
   ]
  },
  {
   "cell_type": "code",
   "execution_count": 14,
   "id": "d380cf36",
   "metadata": {},
   "outputs": [
    {
     "data": {
      "text/html": [
       "<div>\n",
       "<style scoped>\n",
       "    .dataframe tbody tr th:only-of-type {\n",
       "        vertical-align: middle;\n",
       "    }\n",
       "\n",
       "    .dataframe tbody tr th {\n",
       "        vertical-align: top;\n",
       "    }\n",
       "\n",
       "    .dataframe thead th {\n",
       "        text-align: right;\n",
       "    }\n",
       "</style>\n",
       "<table border=\"1\" class=\"dataframe\">\n",
       "  <thead>\n",
       "    <tr style=\"text-align: right;\">\n",
       "      <th></th>\n",
       "      <th>invoice_no</th>\n",
       "      <th>Invoice_Date</th>\n",
       "    </tr>\n",
       "  </thead>\n",
       "  <tbody>\n",
       "    <tr>\n",
       "      <th>0</th>\n",
       "      <td>I138884</td>\n",
       "      <td>8/5/2022</td>\n",
       "    </tr>\n",
       "    <tr>\n",
       "      <th>1</th>\n",
       "      <td>I317333</td>\n",
       "      <td>12/12/2021</td>\n",
       "    </tr>\n",
       "    <tr>\n",
       "      <th>2</th>\n",
       "      <td>I127801</td>\n",
       "      <td>11/9/2021</td>\n",
       "    </tr>\n",
       "    <tr>\n",
       "      <th>3</th>\n",
       "      <td>I173702</td>\n",
       "      <td>5/16/2021</td>\n",
       "    </tr>\n",
       "    <tr>\n",
       "      <th>4</th>\n",
       "      <td>I337046</td>\n",
       "      <td>10/24/2021</td>\n",
       "    </tr>\n",
       "    <tr>\n",
       "      <th>...</th>\n",
       "      <td>...</td>\n",
       "      <td>...</td>\n",
       "    </tr>\n",
       "    <tr>\n",
       "      <th>99452</th>\n",
       "      <td>I219422</td>\n",
       "      <td>9/21/2022</td>\n",
       "    </tr>\n",
       "    <tr>\n",
       "      <th>99453</th>\n",
       "      <td>I325143</td>\n",
       "      <td>9/22/2021</td>\n",
       "    </tr>\n",
       "    <tr>\n",
       "      <th>99454</th>\n",
       "      <td>I824010</td>\n",
       "      <td>3/28/2021</td>\n",
       "    </tr>\n",
       "    <tr>\n",
       "      <th>99455</th>\n",
       "      <td>I702964</td>\n",
       "      <td>3/16/2021</td>\n",
       "    </tr>\n",
       "    <tr>\n",
       "      <th>99456</th>\n",
       "      <td>I232867</td>\n",
       "      <td>10/15/2022</td>\n",
       "    </tr>\n",
       "  </tbody>\n",
       "</table>\n",
       "<p>99457 rows × 2 columns</p>\n",
       "</div>"
      ],
      "text/plain": [
       "      invoice_no Invoice_Date\n",
       "0        I138884     8/5/2022\n",
       "1        I317333   12/12/2021\n",
       "2        I127801    11/9/2021\n",
       "3        I173702    5/16/2021\n",
       "4        I337046   10/24/2021\n",
       "...          ...          ...\n",
       "99452    I219422    9/21/2022\n",
       "99453    I325143    9/22/2021\n",
       "99454    I824010    3/28/2021\n",
       "99455    I702964    3/16/2021\n",
       "99456    I232867   10/15/2022\n",
       "\n",
       "[99457 rows x 2 columns]"
      ]
     },
     "execution_count": 14,
     "metadata": {},
     "output_type": "execute_result"
    }
   ],
   "source": [
    "a = cus_sale[[\"invoice_no\", \"Invoice_Date\"]].copy()\n",
    "a"
   ]
  },
  {
   "cell_type": "code",
   "execution_count": 17,
   "id": "a2587bb8",
   "metadata": {},
   "outputs": [
    {
     "data": {
      "text/plain": [
       "0          8/5/2022\n",
       "1        12/12/2021\n",
       "2         11/9/2021\n",
       "3         5/16/2021\n",
       "4        10/24/2021\n",
       "            ...    \n",
       "99452     9/21/2022\n",
       "99453     9/22/2021\n",
       "99454     3/28/2021\n",
       "99455     3/16/2021\n",
       "99456    10/15/2022\n",
       "Name: Invoice_Date, Length: 99457, dtype: object"
      ]
     },
     "execution_count": 17,
     "metadata": {},
     "output_type": "execute_result"
    }
   ],
   "source": [
    "#month = cus_sale[\"Invoice_Date\"].dt.month\n",
    "\n",
    "df2 = cus_sale.Invoice_Date.copy()\n",
    "df2\n",
    "\n",
    "#cus_sale[\"Invoice_Date\"] = pd.to_datetime(cus_sale[\"Invoice_Date\"], format=\"MMM\")\n",
    "\n",
    "#cus_sale[\"Invoice_Date\"]"
   ]
  },
  {
   "cell_type": "code",
   "execution_count": 24,
   "id": "99188975",
   "metadata": {},
   "outputs": [
    {
     "ename": "TypeError",
     "evalue": "expected string or buffer",
     "output_type": "error",
     "traceback": [
      "\u001b[1;31m---------------------------------------------------------------------------\u001b[0m",
      "\u001b[1;31mTypeError\u001b[0m                                 Traceback (most recent call last)",
      "Cell \u001b[1;32mIn[24], line 1\u001b[0m\n\u001b[1;32m----> 1\u001b[0m month \u001b[38;5;241m=\u001b[39m re\u001b[38;5;241m.\u001b[39msub(\u001b[38;5;124mr\u001b[39m\u001b[38;5;124m\"\u001b[39m\u001b[38;5;124m(\u001b[39m\u001b[38;5;124m\\\u001b[39m\u001b[38;5;124md\u001b[39m\u001b[38;5;132;01m{2}\u001b[39;00m\u001b[38;5;124m)-(\u001b[39m\u001b[38;5;124m\\\u001b[39m\u001b[38;5;124md\u001b[39m\u001b[38;5;132;01m{2}\u001b[39;00m\u001b[38;5;124m)-(\u001b[39m\u001b[38;5;124m\\\u001b[39m\u001b[38;5;124md\u001b[39m\u001b[38;5;132;01m{4}\u001b[39;00m\u001b[38;5;124m)\u001b[39m\u001b[38;5;124m\"\u001b[39m,\u001b[38;5;124m\"\u001b[39m\u001b[38;5;124mMMM\u001b[39m\u001b[38;5;124m\"\u001b[39m,cus_sale)\n\u001b[0;32m      3\u001b[0m month\n",
      "File \u001b[1;32m~\\anaconda333\\Lib\\site-packages\\regex\\regex.py:278\u001b[0m, in \u001b[0;36msub\u001b[1;34m(pattern, repl, string, count, flags, pos, endpos, concurrent, timeout, ignore_unused, **kwargs)\u001b[0m\n\u001b[0;32m    272\u001b[0m \u001b[38;5;250m\u001b[39m\u001b[38;5;124;03m\"\"\"Return the string obtained by replacing the leftmost (or rightmost with a\u001b[39;00m\n\u001b[0;32m    273\u001b[0m \u001b[38;5;124;03mreverse pattern) non-overlapping occurrences of the pattern in string by the\u001b[39;00m\n\u001b[0;32m    274\u001b[0m \u001b[38;5;124;03mreplacement repl. repl can be either a string or a callable; if a string,\u001b[39;00m\n\u001b[0;32m    275\u001b[0m \u001b[38;5;124;03mbackslash escapes in it are processed; if a callable, it's passed the match\u001b[39;00m\n\u001b[0;32m    276\u001b[0m \u001b[38;5;124;03mobject and must return a replacement string to be used.\"\"\"\u001b[39;00m\n\u001b[0;32m    277\u001b[0m pat \u001b[38;5;241m=\u001b[39m _compile(pattern, flags, ignore_unused, kwargs, \u001b[38;5;28;01mTrue\u001b[39;00m)\n\u001b[1;32m--> 278\u001b[0m \u001b[38;5;28;01mreturn\u001b[39;00m pat\u001b[38;5;241m.\u001b[39msub(repl, string, count, pos, endpos, concurrent, timeout)\n",
      "\u001b[1;31mTypeError\u001b[0m: expected string or buffer"
     ]
    }
   ],
   "source": [
    "month = re.sub(r\"(\\d{2})-(\\d{2})-(\\d{4})\",\"MMM\",cus_sale)\n",
    "\n",
    "month\n",
    "\n",
    "\n",
    "new_date = cus_sale[\"Invoice_Date\"].apply(strftime,\"%d-%m-%y\")\n",
    "\n",
    "new_date"
   ]
  },
  {
   "cell_type": "code",
   "execution_count": 5,
   "id": "0304474c",
   "metadata": {},
   "outputs": [
    {
     "ename": "NameError",
     "evalue": "name 'strftime' is not defined",
     "output_type": "error",
     "traceback": [
      "\u001b[1;31m---------------------------------------------------------------------------\u001b[0m",
      "\u001b[1;31mNameError\u001b[0m                                 Traceback (most recent call last)",
      "Cell \u001b[1;32mIn[5], line 1\u001b[0m\n\u001b[1;32m----> 1\u001b[0m new_date \u001b[38;5;241m=\u001b[39m cus_sale[\u001b[38;5;124m\"\u001b[39m\u001b[38;5;124mInvoice_Date\u001b[39m\u001b[38;5;124m\"\u001b[39m]\u001b[38;5;241m.\u001b[39mapply(strftime,\u001b[38;5;124m\"\u001b[39m\u001b[38;5;132;01m%d\u001b[39;00m\u001b[38;5;124m-\u001b[39m\u001b[38;5;124m%\u001b[39m\u001b[38;5;124mm-\u001b[39m\u001b[38;5;124m%\u001b[39m\u001b[38;5;124my\u001b[39m\u001b[38;5;124m\"\u001b[39m)\n\u001b[0;32m      3\u001b[0m new_date\n",
      "\u001b[1;31mNameError\u001b[0m: name 'strftime' is not defined"
     ]
    }
   ],
   "source": [
    "\n",
    "\n",
    "new_date = cus_sale[\"Invoice_Date\"].apply(strftime,\"%d-%m-%y\")\n",
    "\n",
    "new_date"
   ]
  },
  {
   "cell_type": "code",
   "execution_count": null,
   "id": "4643fe13",
   "metadata": {},
   "outputs": [],
   "source": []
  },
  {
   "cell_type": "code",
   "execution_count": null,
   "id": "21548223",
   "metadata": {},
   "outputs": [],
   "source": []
  },
  {
   "cell_type": "markdown",
   "id": "e855c1be",
   "metadata": {},
   "source": [
    "# QUESTION 6\n",
    "# Customer gender distribution\n",
    "\n",
    "6a) How many males and females are in the dataset    6b) Create a bar chart to represent the gender distribution."
   ]
  },
  {
   "cell_type": "code",
   "execution_count": 25,
   "id": "bb6f9c5b",
   "metadata": {},
   "outputs": [
    {
     "name": "stdout",
     "output_type": "stream",
     "text": [
      "The number of females and males in the dataet are listed below\n"
     ]
    },
    {
     "data": {
      "text/plain": [
       "Female    59482\n",
       "Male      39975\n",
       "Name: gender, dtype: int64"
      ]
     },
     "execution_count": 25,
     "metadata": {},
     "output_type": "execute_result"
    }
   ],
   "source": [
    "#6a)\n",
    "gender = cus_sale.gender.value_counts()\n",
    "print(\"The number of females and males in the dataet are listed below\")\n",
    "gender"
   ]
  },
  {
   "cell_type": "code",
   "execution_count": 18,
   "id": "0a81193b",
   "metadata": {},
   "outputs": [
    {
     "data": {
      "image/png": "[encoded data removed]",
      "text/plain": [
       "<Figure size 640x480 with 1 Axes>"
      ]
     },
     "metadata": {},
     "output_type": "display_data"
    }
   ],
   "source": [
    "#6b) \n",
    "gender = cus_sale.gender.unique()\n",
    "gender_counts= cus_sale.gender.value_counts()\n",
    "fig = plt.figure()\n",
    "ax = fig.add_subplot(1,1,1)\n",
    "ax.set_xlabel(\"Gender\")\n",
    "#x.set_ylabel(\"Count\")\n",
    "ax.bar(gender,gender_counts,width=0.35, color=\"b\", label=(\"Male\",\"Female\"))\n",
    "plt.show()"
   ]
  },
  {
   "cell_type": "markdown",
   "id": "3bfb51af",
   "metadata": {},
   "source": [
    "# QUESTION 7\n",
    "# Price analysis\n",
    "\n",
    "7a) What is the total revenue generated from all invoices  7b) Create a histogram showing the distribution of item prices."
   ]
  },
  {
   "cell_type": "code",
   "execution_count": 3,
   "id": "0d10ea1a",
   "metadata": {
    "scrolled": true
   },
   "outputs": [
    {
     "name": "stdout",
     "output_type": "stream",
     "text": [
      "The total revenue generated from all invoices is equals to 68551365.91\n"
     ]
    }
   ],
   "source": [
    "#6a)\n",
    "# To get the total revenue from all invoices we have to multiply the quantity by the price per \n",
    "# quantity but since the dateset PRICE column already contains that, we just sum up the \n",
    "# the values in the price column therefore giving us the total revenue from the invoices.\n",
    "\n",
    "invoice_rev = cus_sale[\"price\"].sum()\n",
    "\n",
    "print(\"The total revenue generated from all invoices is equals to\", invoice_rev)"
   ]
  },
  {
   "cell_type": "code",
   "execution_count": 21,
   "id": "c81315c6",
   "metadata": {},
   "outputs": [
    {
     "data": {
      "text/html": [
       "<div>\n",
       "<style scoped>\n",
       "    .dataframe tbody tr th:only-of-type {\n",
       "        vertical-align: middle;\n",
       "    }\n",
       "\n",
       "    .dataframe tbody tr th {\n",
       "        vertical-align: top;\n",
       "    }\n",
       "\n",
       "    .dataframe thead th {\n",
       "        text-align: right;\n",
       "    }\n",
       "</style>\n",
       "<table border=\"1\" class=\"dataframe\">\n",
       "  <thead>\n",
       "    <tr style=\"text-align: right;\">\n",
       "      <th></th>\n",
       "      <th>price</th>\n",
       "    </tr>\n",
       "    <tr>\n",
       "      <th>category</th>\n",
       "      <th></th>\n",
       "    </tr>\n",
       "  </thead>\n",
       "  <tbody>\n",
       "    <tr>\n",
       "      <th>Books</th>\n",
       "      <td>226977.30</td>\n",
       "    </tr>\n",
       "    <tr>\n",
       "      <th>Clothing</th>\n",
       "      <td>31075684.64</td>\n",
       "    </tr>\n",
       "    <tr>\n",
       "      <th>Cosmetics</th>\n",
       "      <td>1848606.90</td>\n",
       "    </tr>\n",
       "    <tr>\n",
       "      <th>Food &amp; Beverage</th>\n",
       "      <td>231568.71</td>\n",
       "    </tr>\n",
       "    <tr>\n",
       "      <th>Shoes</th>\n",
       "      <td>18135336.89</td>\n",
       "    </tr>\n",
       "    <tr>\n",
       "      <th>Souvenir</th>\n",
       "      <td>174436.83</td>\n",
       "    </tr>\n",
       "    <tr>\n",
       "      <th>Technology</th>\n",
       "      <td>15772050.00</td>\n",
       "    </tr>\n",
       "    <tr>\n",
       "      <th>Toys</th>\n",
       "      <td>1086704.64</td>\n",
       "    </tr>\n",
       "  </tbody>\n",
       "</table>\n",
       "</div>"
      ],
      "text/plain": [
       "                       price\n",
       "category                    \n",
       "Books              226977.30\n",
       "Clothing         31075684.64\n",
       "Cosmetics         1848606.90\n",
       "Food & Beverage    231568.71\n",
       "Shoes            18135336.89\n",
       "Souvenir           174436.83\n",
       "Technology       15772050.00\n",
       "Toys              1086704.64"
      ]
     },
     "execution_count": 21,
     "metadata": {},
     "output_type": "execute_result"
    }
   ],
   "source": [
    "#7b)\n",
    "a = cus_sale[[\"category\", \"price\"]].copy()\n",
    "\n",
    "a\n",
    "\n",
    "b = a.groupby([\"category\"]).sum(\"price\")\n",
    "\n",
    "b\n"
   ]
  },
  {
   "cell_type": "code",
   "execution_count": 32,
   "id": "140e2ac8",
   "metadata": {},
   "outputs": [
    {
     "ename": "TypeError",
     "evalue": "bar() missing 1 required positional argument: 'height'",
     "output_type": "error",
     "traceback": [
      "\u001b[1;31m---------------------------------------------------------------------------\u001b[0m",
      "\u001b[1;31mTypeError\u001b[0m                                 Traceback (most recent call last)",
      "Cell \u001b[1;32mIn[32], line 1\u001b[0m\n\u001b[1;32m----> 1\u001b[0m plt\u001b[38;5;241m.\u001b[39mbar(b, color\u001b[38;5;241m=\u001b[39m\u001b[38;5;124m\"\u001b[39m\u001b[38;5;124mred\u001b[39m\u001b[38;5;124m\"\u001b[39m)\n\u001b[0;32m      3\u001b[0m plt\u001b[38;5;241m.\u001b[39mshow()\n",
      "\u001b[1;31mTypeError\u001b[0m: bar() missing 1 required positional argument: 'height'"
     ]
    }
   ],
   "source": [
    "plt.bar(b, color=\"red\")\n",
    "\n",
    "plt.show()"
   ]
  },
  {
   "cell_type": "code",
   "execution_count": 98,
   "id": "16c7a9ca",
   "metadata": {},
   "outputs": [
    {
     "data": {
      "image/png": "[encoded data removed]",
      "text/plain": [
       "<Figure size 640x480 with 1 Axes>"
      ]
     },
     "metadata": {},
     "output_type": "display_data"
    }
   ],
   "source": [
    "plt.style.use(\"ggplot\")\n",
    "\n",
    "item_price = cus_sale[\"price\"].values\n",
    "\n",
    "\n",
    "#bin = pd.cut(items_price, bins=10)# pd.cut is an inbuilt method for getting the bin width which \n",
    "# is an importamt aspect of creating a histogram\n",
    "\n",
    "#bins = np.arange(0,10,1)\n",
    "\n",
    "hist = plt.hist(item_price)\n",
    "#histo = np.histogram(item_price.values, bins=bins)\n",
    "#plt.hist(hist)\n",
    "\n",
    "plt.title(\"Distribution of prices\")\n",
    "plt.xlabel(\"Price\")\n",
    "plt.show()"
   ]
  },
  {
   "cell_type": "code",
   "execution_count": 96,
   "id": "ec08b89a",
   "metadata": {},
   "outputs": [
    {
     "data": {
      "text/plain": [
       "600.16     6950\n",
       "1500.40    6940\n",
       "900.24     6907\n",
       "1200.32    6849\n",
       "300.08     6841\n",
       "121.98     3072\n",
       "203.30     3055\n",
       "162.64     3010\n",
       "5.23       3002\n",
       "15.69      2992\n",
       "26.15      2989\n",
       "40.66      2986\n",
       "81.32      2974\n",
       "10.46      2909\n",
       "20.92      2884\n",
       "107.52     2082\n",
       "143.36     2076\n",
       "1200.34    2045\n",
       "2400.68    2022\n",
       "3000.85    2013\n",
       "1800.51    2010\n",
       "35.84      2000\n",
       "179.20     1971\n",
       "71.68      1958\n",
       "600.17     1944\n",
       "35.19      1077\n",
       "75.75      1029\n",
       "11.73      1024\n",
       "3150.00    1009\n",
       "30.30      1008\n",
       "4200.00    1001\n",
       "5250.00    1001\n",
       "2100.00    1000\n",
       "45.45      1000\n",
       "58.65       992\n",
       "15.15       985\n",
       "1050.00     985\n",
       "23.46       984\n",
       "60.60       959\n",
       "46.92       922\n",
       "Name: price, dtype: int64"
      ]
     },
     "execution_count": 96,
     "metadata": {},
     "output_type": "execute_result"
    }
   ],
   "source": [
    "s = cus_sale[\"price\"].unique()\n",
    "a = cus_sale.price.value_counts()\n",
    "a"
   ]
  },
  {
   "cell_type": "code",
   "execution_count": 101,
   "id": "7785eeeb",
   "metadata": {},
   "outputs": [
    {
     "name": "stdout",
     "output_type": "stream",
     "text": [
      "[1500.4  1800.51  300.08 ...   10.46 4200.     35.19]\n"
     ]
    }
   ],
   "source": [
    " "
   ]
  },
  {
   "cell_type": "code",
   "execution_count": 59,
   "id": "61db5a41",
   "metadata": {},
   "outputs": [],
   "source": [
    "plt.show()"
   ]
  },
  {
   "cell_type": "code",
   "execution_count": null,
   "id": "af115cb1",
   "metadata": {},
   "outputs": [],
   "source": []
  }
 ],
 "metadata": {
  "kernelspec": {
   "display_name": "Python 3 (ipykernel)",
   "language": "python",
   "name": "python3"
  },
  "language_info": {
   "codemirror_mode": {
    "name": "ipython",
    "version": 3
   },
   "file_extension": ".py",
   "mimetype": "text/x-python",
   "name": "python",
   "nbconvert_exporter": "python",
   "pygments_lexer": "ipython3",
   "version": "3.11.4"
  }
 },
 "nbformat": 4,
 "nbformat_minor": 5
}
